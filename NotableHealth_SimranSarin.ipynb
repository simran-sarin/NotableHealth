{
 "cells": [
  {
   "cell_type": "code",
   "execution_count": 93,
   "metadata": {},
   "outputs": [],
   "source": [
    "import pandas as pd\n",
    "import re"
   ]
  },
  {
   "cell_type": "code",
   "execution_count": 105,
   "metadata": {},
   "outputs": [
    {
     "name": "stdout",
     "output_type": "stream",
     "text": [
      "Patient presents today with several issues. Number three BMI has increased by 10% since their last visit. Number next patient reports experiencing dizziness several times in the last two weeks. Number next patient has a persistent cough that hasn’t improved for last 4 weeks.\n"
     ]
    }
   ],
   "source": [
    "example = \"Patient presents today with several issues. Number three BMI has increased by 10% since their last visit. Number next patient reports experiencing dizziness several times in the last two weeks. Number next patient has a persistent cough that hasn’t improved for last 4 weeks.\"\n",
    "print(example)\n"
   ]
  },
  {
   "cell_type": "code",
   "execution_count": 111,
   "metadata": {},
   "outputs": [],
   "source": [
    "def transformed_string(text):\n",
    "    \n",
    "    #dictonary to match words to letters\n",
    "    number_dict = {\n",
    "    'one': 1,\n",
    "    'two': 2,\n",
    "    'three': 3,\n",
    "    'four': 4,\n",
    "    'five': 5,\n",
    "    'six': 6,\n",
    "    'seven': 7,\n",
    "    'eight': 8,\n",
    "    'nine': 9}\n",
    "    \n",
    "    list_items = example.split(\"Number\")\n",
    "    list_stripped = [i.strip() for i in list_items]\n",
    "    \n",
    "    #finds int for the beginning list number\n",
    "    list_num= number_dict.get(list_stripped[1].split()[0])\n",
    "    \n",
    "    numeric_list = list_stripped[1:]\n",
    "   \n",
    "    #get rid of first word in each item of the list\n",
    "    \n",
    "    for i in range(len(numeric_list)):\n",
    "        numeric_list[i] = numeric_list[i].partition(' ')[2]\n",
    "    \n",
    "    print(list_stripped[0])\n",
    "    for i in numeric_list:\n",
    "        if i[0].isupper() == False:\n",
    "            i = i.capitalize()\n",
    "        print(str(list_num) + \".\" + i) \n",
    "        list_num += 1"
   ]
  },
  {
   "cell_type": "code",
   "execution_count": 113,
   "metadata": {},
   "outputs": [
    {
     "name": "stdout",
     "output_type": "stream",
     "text": [
      "Patient presents today with several issues.\n",
      "3.BMI has increased by 10% since their last visit.\n",
      "4.Patient reports experiencing dizziness several times in the last two weeks.\n",
      "5.Patient has a persistent cough that hasn’t improved for last 4 weeks.\n"
     ]
    }
   ],
   "source": [
    "transformed_string(example)"
   ]
  }
 ],
 "metadata": {
  "kernelspec": {
   "display_name": "Python 3",
   "language": "python",
   "name": "python3"
  },
  "language_info": {
   "codemirror_mode": {
    "name": "ipython",
    "version": 3
   },
   "file_extension": ".py",
   "mimetype": "text/x-python",
   "name": "python",
   "nbconvert_exporter": "python",
   "pygments_lexer": "ipython3",
   "version": "3.8.8"
  }
 },
 "nbformat": 4,
 "nbformat_minor": 4
}
